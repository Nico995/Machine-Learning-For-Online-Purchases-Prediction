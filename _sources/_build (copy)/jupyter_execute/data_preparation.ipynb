{
 "cells": [
  {
   "cell_type": "markdown",
   "id": "polar-compatibility",
   "metadata": {},
   "source": [
    "# Data Preparation\n",
    "\n",
    "## Data Pipeline\n",
    "\n",
    "Before getting to our prediction algorithm, our data must go through different processes, in different subsets.\n",
    "The order of such processes is often misunderstood.\n",
    "For this reason, we are going to start from a picture summing up the whole process, and go through it step by step.\n",
    "\n",
    "![data_pipeline](images/data_pipeline.png)\n",
    "\n",
    "1. **Data Cleaning**: Here is where we handle *missing* values from our dataset. In our case we also perform an *Ordinal Encoding*, to ease later steps.\n",
    "2. **Data Split**: At this point, we take away a small portion of data and put it aside. This small portion will simulate newly gathered data, and it will be essential to test the generalization power of our final model.\n",
    "3. **Training Path**:\n",
    "    1. **Oversampling**: We use SMOTE to oversample **only training data**. Since the real world is unbalanced, if we were to balance also the test set, we would cheat, and offer a distorted vision of what our model would expect.\n",
    "    2. **One-Hot-Encoding**: Ordinal encoding can put our data on different levels that are not really there (i.e. when mapping colors with numbers, there is no reason of assigning 1 to 'black' or 'white'). For this reason, we apply one-hot-encoding. This will avoid the aforementioned problem, but has the drawback of increasing the dimensionality of our data (creating a sparse encoding matrix).\n",
    "\n",
    "The missing part of the chart deals with the actual classification task, which we will see in a while.\n",
    "Now, let's prepare our data."
   ]
  }
 ],
 "metadata": {
  "jupytext": {
   "cell_metadata_filter": "-all",
   "formats": "md:myst",
   "text_representation": {
    "extension": ".md",
    "format_name": "myst",
    "format_version": 0.13,
    "jupytext_version": "1.10.3"
   }
  },
  "kernelspec": {
   "display_name": "Python 3",
   "language": "python",
   "name": "python3"
  },
  "language_info": {
   "codemirror_mode": {
    "name": "ipython",
    "version": 3
   },
   "file_extension": ".py",
   "mimetype": "text/x-python",
   "name": "python",
   "nbconvert_exporter": "python",
   "pygments_lexer": "ipython3",
   "version": "3.8.5"
  },
  "source_map": [
   14
  ]
 },
 "nbformat": 4,
 "nbformat_minor": 5
}