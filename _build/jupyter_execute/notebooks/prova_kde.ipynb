{
 "cells": [
  {
   "cell_type": "code",
   "execution_count": 1,
   "id": "creative-nickel",
   "metadata": {},
   "outputs": [],
   "source": [
    "import numpy as np\n",
    "import pandas as pd\n",
    "import seaborn as sns\n",
    "\n",
    "from scipy.stats import norm\n",
    "import scipy as sp\n",
    "\n",
    "import matplotlib.pyplot as plt\n",
    "import matplotlib.patches as mpatches\n",
    "plt.rcParams[\"figure.figsize\"] = (9, 6)\n",
    "plt.rcParams[\"font.size\"] = 18\n",
    "\n",
    "# just for fun\n",
    "# plt.xkcd(scale=.5, length=50);"
   ]
  },
  {
   "cell_type": "code",
   "execution_count": 2,
   "id": "broad-elements",
   "metadata": {},
   "outputs": [],
   "source": [
    "np.random.seed(42)"
   ]
  },
  {
   "cell_type": "code",
   "execution_count": 3,
   "id": "corporate-frame",
   "metadata": {},
   "outputs": [],
   "source": [
    "data = []\n",
    "underlying_distrib = np.random.normal(-10, 7, 300)\n",
    "data.extend(np.random.choice(underlying_distrib[:150], 8))\n",
    "data.extend(np.random.choice(underlying_distrib[-150:], 8))"
   ]
  },
  {
   "cell_type": "code",
   "execution_count": 4,
   "id": "inner-intro",
   "metadata": {},
   "outputs": [],
   "source": [
    "# data = [-20.31275116, -18.3594738, -18.3553103, -14.18406452, -11.67305,\n",
    "#         -11.38179997, -11.3761126, -10.6904519, -10.68305023, -10.34148,\n",
    "#          -8.75222277,  -8.7498553, -6.00130727,   1.45761078,   1.77479,\n",
    "#           1.78314794,   2.6612791]"
   ]
  },
  {
   "cell_type": "code",
   "execution_count": 5,
   "id": "worldwide-consensus",
   "metadata": {},
   "outputs": [
    {
     "ename": "NameError",
     "evalue": "name 'width' is not defined",
     "output_type": "error",
     "traceback": [
      "\u001b[0;31m-------------------------------------------------------------\u001b[0m",
      "\u001b[0;31mNameError\u001b[0m                   Traceback (most recent call last)",
      "\u001b[0;32m<ipython-input-5-ef04795965f7>\u001b[0m in \u001b[0;36m<module>\u001b[0;34m\u001b[0m\n\u001b[1;32m      9\u001b[0m \u001b[0;34m\u001b[0m\u001b[0m\n\u001b[1;32m     10\u001b[0m \u001b[0;31m# grid points\u001b[0m\u001b[0;34m\u001b[0m\u001b[0;34m\u001b[0m\u001b[0;34m\u001b[0m\u001b[0m\n\u001b[0;32m---> 11\u001b[0;31m \u001b[0mxmin\u001b[0m \u001b[0;34m=\u001b[0m \u001b[0mmin\u001b[0m\u001b[0;34m(\u001b[0m\u001b[0mdata\u001b[0m\u001b[0;34m)\u001b[0m \u001b[0;34m-\u001b[0m \u001b[0;36m3\u001b[0m \u001b[0;34m*\u001b[0m \u001b[0mwidth\u001b[0m\u001b[0;34m\u001b[0m\u001b[0;34m\u001b[0m\u001b[0m\n\u001b[0m\u001b[1;32m     12\u001b[0m \u001b[0mxmax\u001b[0m \u001b[0;34m=\u001b[0m \u001b[0mmax\u001b[0m\u001b[0;34m(\u001b[0m\u001b[0mdata\u001b[0m\u001b[0;34m)\u001b[0m \u001b[0;34m+\u001b[0m \u001b[0;36m3\u001b[0m \u001b[0;34m*\u001b[0m \u001b[0mwidth\u001b[0m\u001b[0;34m\u001b[0m\u001b[0;34m\u001b[0m\u001b[0m\n\u001b[1;32m     13\u001b[0m \u001b[0;34m\u001b[0m\u001b[0m\n",
      "\u001b[0;31mNameError\u001b[0m: name 'width' is not defined"
     ]
    }
   ],
   "source": [
    "sns.set_theme()\n",
    "# sns.set_style(\"dark\")\n",
    "\n",
    "bandwidth=1/np.std(data)\n",
    "\n",
    "# Compute KDE by hand\n",
    "samples = 200\n",
    "\n",
    "\n",
    "# grid points\n",
    "xmin = min(data) - 3 * width\n",
    "xmax = max(data) + 3 * width\n",
    "\n",
    "x = np.linspace(xmin, xmax, samples)\n",
    "\n",
    "# compute kde\n",
    "kde = np.zeros(samples)\n",
    "\n",
    "kdes = []\n",
    "for val in data:\n",
    "    kdes.append(norm.pdf(x, loc=val, scale=width))\n",
    "kde = np.sum(kdes, axis=0)\n",
    "\n",
    "# normalize\n",
    "norm_fact = sp.integrate.simps(kde, x)\n",
    "kde /= norm_fact\n",
    "\n",
    "# Plot against seaborn kde\n",
    "ax = sns.kdeplot(data, label=\"seaborn\", bw_method=bandwidth)\n",
    "ax = sns.lineplot(x=x, y=kde, label=\"KDE\")\n",
    "\n",
    "for kd in kdes:\n",
    "    sns.lineplot(x=x, y=kd/norm_fact, ax=ax, palette=\"Paired\")\n",
    "    \n",
    "for line in ax.lines[1:]:\n",
    "    line.set_linestyle(\"--\")\n",
    "    \n",
    "    \n",
    "sns.rugplot(data, ax=ax, palette=\"Paired\")\n",
    "\n",
    "plt.legend();\n",
    "plt.show()"
   ]
  },
  {
   "cell_type": "code",
   "execution_count": null,
   "id": "lesser-palestine",
   "metadata": {},
   "outputs": [],
   "source": []
  },
  {
   "cell_type": "code",
   "execution_count": null,
   "id": "danish-tuesday",
   "metadata": {},
   "outputs": [],
   "source": []
  },
  {
   "cell_type": "code",
   "execution_count": null,
   "id": "lyric-spirit",
   "metadata": {},
   "outputs": [],
   "source": []
  },
  {
   "cell_type": "code",
   "execution_count": null,
   "id": "shared-canberra",
   "metadata": {},
   "outputs": [],
   "source": []
  }
 ],
 "metadata": {
  "kernelspec": {
   "display_name": "Python 3",
   "language": "python",
   "name": "python3"
  },
  "language_info": {
   "codemirror_mode": {
    "name": "ipython",
    "version": 3
   },
   "file_extension": ".py",
   "mimetype": "text/x-python",
   "name": "python",
   "nbconvert_exporter": "python",
   "pygments_lexer": "ipython3",
   "version": "3.8.5"
  }
 },
 "nbformat": 4,
 "nbformat_minor": 5
}