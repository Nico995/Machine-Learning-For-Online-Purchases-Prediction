{
 "cells": [
  {
   "cell_type": "markdown",
   "id": "dense-husband",
   "metadata": {},
   "source": [
    "# Appendix"
   ]
  },
  {
   "cell_type": "markdown",
   "id": "fancy-reward",
   "metadata": {},
   "source": [
    "In this page we can find further development of concepts used in previoys chapters."
   ]
  },
  {
   "cell_type": "markdown",
   "id": "classified-contrast",
   "metadata": {},
   "source": [
    "## Violin P"
   ]
  }
 ],
 "metadata": {
  "kernelspec": {
   "display_name": "Python 3",
   "language": "python",
   "name": "python3"
  },
  "language_info": {
   "codemirror_mode": {
    "name": "ipython",
    "version": 3
   },
   "file_extension": ".py",
   "mimetype": "text/x-python",
   "name": "python",
   "nbconvert_exporter": "python",
   "pygments_lexer": "ipython3",
   "version": "3.8.5"
  }
 },
 "nbformat": 4,
 "nbformat_minor": 5
}